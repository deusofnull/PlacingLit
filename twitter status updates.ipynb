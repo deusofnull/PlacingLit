{
 "metadata": {
  "name": ""
 },
 "nbformat": 3,
 "nbformat_minor": 0,
 "worksheets": [
  {
   "cells": [
    {
     "cell_type": "code",
     "collapsed": false,
     "input": [
      "from handlers import twitter\n",
      "CONSUMER_KEY = 'YlEGvCoZXn5Tb8jbVFQQ'\n",
      "CONSUMER_SECRET = 'B7ptDyjww8T0sqR112jaBZ4BILU4gbRwyxipyARLL4'\n",
      "OAUTH_TOKEN = '2287458926-mLpqFWG1GUL2DMECLpfBtY2vvlaGCIGdLe2DWJJ'\n",
      "OAUTH_TOKEN_SECRET = 'dRHsKiz26KHCuGqq1g70tjxXMCLVEDdov7fvEwWaZ4f1i'\n",
      "oauth = twitter.OAuth(token=OAUTH_TOKEN,token_secret=OAUTH_TOKEN_SECRET,consumer_key=CONSUMER_KEY,consumer_secret=CONSUMER_SECRET)\n",
      "t = twitter.Twitter(auth=oauth)\n",
      "t.statuses.update(status=\"Using @sixohsix's sweet Python Twitter Tools.\")"
     ],
     "language": "python",
     "metadata": {},
     "outputs": [],
     "prompt_number": 17
    },
    {
     "cell_type": "code",
     "collapsed": false,
     "input": [
      "t\n",
      "t.statuses.home_timeline()"
     ],
     "language": "python",
     "metadata": {},
     "outputs": [
      {
       "ename": "TwitterHTTPError",
       "evalue": "Twitter sent status 401 for URL: 1/statuses/home_timeline.json using parameters: (oauth_consumer_key=YlEGvCoZXn5Tb8jbVFQQ&oauth_nonce=16297660952188181101&oauth_signature_method=HMAC-SHA1&oauth_timestamp=1398569778&oauth_token=2287458926-mLpqFWG1GUL2DMECLpfBtY2vvlaGCIGdLe2DWJJ&oauth_version=1.0&oauth_signature=9uPYNXDyhDxwckN7VSULGfsSTKE%3D)\ndetails: {\"errors\":[{\"message\":\"The Twitter REST API v1 is no longer active. Please migrate to API v1.1. https://dev.twitter.com/docs/api/1.1/overview.\",\"code\":64}]}",
       "output_type": "pyerr",
       "traceback": [
        "\u001b[0;31m---------------------------------------------------------------------------\u001b[0m\n\u001b[0;31mTwitterHTTPError\u001b[0m                          Traceback (most recent call last)",
        "\u001b[0;32m<ipython-input-19-087a229fa990>\u001b[0m in \u001b[0;36m<module>\u001b[0;34m()\u001b[0m\n\u001b[1;32m      1\u001b[0m \u001b[0mt\u001b[0m\u001b[0;34m\u001b[0m\u001b[0m\n\u001b[0;32m----> 2\u001b[0;31m \u001b[0mt\u001b[0m\u001b[0;34m.\u001b[0m\u001b[0mstatuses\u001b[0m\u001b[0;34m.\u001b[0m\u001b[0mhome_timeline\u001b[0m\u001b[0;34m(\u001b[0m\u001b[0;34m)\u001b[0m\u001b[0;34m\u001b[0m\u001b[0m\n\u001b[0m",
        "\u001b[0;32m/Users/steven/Desktop/gae/placingliterature/current/handlers/twitter/api.py\u001b[0m in \u001b[0;36m__call__\u001b[0;34m(self, **kwargs)\u001b[0m\n\u001b[1;32m    165\u001b[0m         \u001b[0muriparts\u001b[0m \u001b[0;34m=\u001b[0m \u001b[0;34m[\u001b[0m\u001b[0;34m]\u001b[0m\u001b[0;34m\u001b[0m\u001b[0m\n\u001b[1;32m    166\u001b[0m         \u001b[0;32mfor\u001b[0m \u001b[0muripart\u001b[0m \u001b[0;32min\u001b[0m \u001b[0mself\u001b[0m\u001b[0;34m.\u001b[0m\u001b[0muriparts\u001b[0m\u001b[0;34m:\u001b[0m\u001b[0;34m\u001b[0m\u001b[0m\n\u001b[0;32m--> 167\u001b[0;31m             \u001b[0;31m# If this part matches a keyword argument, use the\u001b[0m\u001b[0;34m\u001b[0m\u001b[0;34m\u001b[0m\u001b[0m\n\u001b[0m\u001b[1;32m    168\u001b[0m             \u001b[0;31m# supplied value otherwise, just use the part.\u001b[0m\u001b[0;34m\u001b[0m\u001b[0;34m\u001b[0m\u001b[0m\n\u001b[1;32m    169\u001b[0m             \u001b[0muriparts\u001b[0m\u001b[0;34m.\u001b[0m\u001b[0mappend\u001b[0m\u001b[0;34m(\u001b[0m\u001b[0mstr\u001b[0m\u001b[0;34m(\u001b[0m\u001b[0mkwargs\u001b[0m\u001b[0;34m.\u001b[0m\u001b[0mpop\u001b[0m\u001b[0;34m(\u001b[0m\u001b[0muripart\u001b[0m\u001b[0;34m,\u001b[0m \u001b[0muripart\u001b[0m\u001b[0;34m)\u001b[0m\u001b[0;34m)\u001b[0m\u001b[0;34m)\u001b[0m\u001b[0;34m\u001b[0m\u001b[0m\n",
        "\u001b[0;32m/Users/steven/Desktop/gae/placingliterature/current/handlers/twitter/api.py\u001b[0m in \u001b[0;36m_handle_response\u001b[0;34m(self, req, uri, arg_data)\u001b[0m\n\u001b[1;32m    180\u001b[0m         \u001b[0;31m# If an id kwarg is present and there is no id to fill in in\u001b[0m\u001b[0;34m\u001b[0m\u001b[0;34m\u001b[0m\u001b[0m\n\u001b[1;32m    181\u001b[0m         \u001b[0;31m# the list of uriparts, assume the id goes at the end.\u001b[0m\u001b[0;34m\u001b[0m\u001b[0;34m\u001b[0m\u001b[0m\n\u001b[0;32m--> 182\u001b[0;31m         \u001b[0mid\u001b[0m \u001b[0;34m=\u001b[0m \u001b[0mkwargs\u001b[0m\u001b[0;34m.\u001b[0m\u001b[0mpop\u001b[0m\u001b[0;34m(\u001b[0m\u001b[0;34m'id'\u001b[0m\u001b[0;34m,\u001b[0m \u001b[0mNone\u001b[0m\u001b[0;34m)\u001b[0m\u001b[0;34m\u001b[0m\u001b[0m\n\u001b[0m\u001b[1;32m    183\u001b[0m         \u001b[0;32mif\u001b[0m \u001b[0mid\u001b[0m\u001b[0;34m:\u001b[0m\u001b[0;34m\u001b[0m\u001b[0m\n\u001b[1;32m    184\u001b[0m             \u001b[0muri\u001b[0m \u001b[0;34m+=\u001b[0m \u001b[0;34m\"/%s\"\u001b[0m \u001b[0;34m%\u001b[0m \u001b[0;34m(\u001b[0m\u001b[0mid\u001b[0m\u001b[0;34m)\u001b[0m\u001b[0;34m\u001b[0m\u001b[0m\n",
        "\u001b[0;31mTwitterHTTPError\u001b[0m: Twitter sent status 401 for URL: 1/statuses/home_timeline.json using parameters: (oauth_consumer_key=YlEGvCoZXn5Tb8jbVFQQ&oauth_nonce=16297660952188181101&oauth_signature_method=HMAC-SHA1&oauth_timestamp=1398569778&oauth_token=2287458926-mLpqFWG1GUL2DMECLpfBtY2vvlaGCIGdLe2DWJJ&oauth_version=1.0&oauth_signature=9uPYNXDyhDxwckN7VSULGfsSTKE%3D)\ndetails: {\"errors\":[{\"message\":\"The Twitter REST API v1 is no longer active. Please migrate to API v1.1. https://dev.twitter.com/docs/api/1.1/overview.\",\"code\":64}]}"
       ]
      }
     ],
     "prompt_number": 19
    }
   ],
   "metadata": {}
  }
 ]
}